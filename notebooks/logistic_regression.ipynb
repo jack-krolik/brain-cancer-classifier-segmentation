{
 "cells": [
  {
   "cell_type": "code",
   "execution_count": null,
   "metadata": {},
   "outputs": [],
   "source": [
    "from torchvision import transforms\n",
    "from torch.utils.data import DataLoader\n",
    "import pathlib\n",
    "import sys\n",
    "import torchmetrics\n",
    "from torchmetrics.classification import (\n",
    "    MulticlassAUROC,\n",
    "    MulticlassJaccardIndex,\n",
    "    MulticlassPrecision,\n",
    "    MulticlassRecall,\n",
    "    MulticlassF1Score,\n",
    "    MulticlassAccuracy,\n",
    "    BinaryAccuracy,\n",
    "    BinaryAUROC,\n",
    "    BinaryF1Score,\n",
    "    BinaryPrecision,\n",
    "    BinaryRecall,\n",
    "    BinaryJaccardIndex,\n",
    ")\n",
    "import torch\n",
    "import torch.nn as nn\n",
    "\n",
    "root = pathlib.Path().absolute().parent\n",
    "DATASET_PATH = root / 'datasets'\n",
    "MODEL_REGISTRY = root / 'model_registry'\n",
    "\n",
    "sys.path.append(str(root))\n",
    "\n",
    "from src.data.classification import TumorBinaryClassificationDataset, CLASSIFICATION_NORMALIZER\n",
    "from src.utils.config import get_device\n",
    "from src.enums import DataSplit\n",
    "from src.models.classification.logreg import LogisiticRegression\n",
    "from src.trainer import eval_classification, train_classification\n",
    "from src.utils.visualize import create_classification_results"
   ]
  },
  {
   "cell_type": "code",
   "execution_count": null,
   "metadata": {},
   "outputs": [],
   "source": [
    "DIM = 256\n",
    "N_EPOCHS = 15\n",
    "BATCH_SIZE = 32\n",
    "\n",
    "transform = transforms.Compose(\n",
    "    [\n",
    "        transforms.Resize((DIM, DIM)),  # TODO: make this larger\n",
    "        transforms.ToTensor(),\n",
    "        CLASSIFICATION_NORMALIZER\n",
    "    ]\n",
    ")\n",
    "\n",
    "device = get_device()\n",
    "\n",
    "LOG_REG_MODEL = MODEL_REGISTRY / 'log_reg.pth'"
   ]
  },
  {
   "cell_type": "code",
   "execution_count": null,
   "metadata": {},
   "outputs": [],
   "source": [
    "train_dataset = TumorBinaryClassificationDataset(\n",
    "    root_dir=DATASET_PATH,\n",
    "    split=DataSplit.TRAIN,\n",
    "    transform=transform,\n",
    ")\n",
    "\n",
    "test_dataset = TumorBinaryClassificationDataset(\n",
    "    root_dir=DATASET_PATH,\n",
    "    split=DataSplit.TEST,\n",
    "    transform=transform,\n",
    ")\n",
    "\n",
    "print(\"Train dataset length: \", len(train_dataset))\n",
    "print(\"Test dataset length: \", len(test_dataset))\n",
    "\n",
    "train_loader = DataLoader(train_dataset, batch_size=BATCH_SIZE, shuffle=True)\n",
    "test_loader = DataLoader(test_dataset, batch_size=BATCH_SIZE, shuffle=False)"
   ]
  },
  {
   "cell_type": "code",
   "execution_count": null,
   "metadata": {},
   "outputs": [],
   "source": [
    "model = LogisiticRegression(DIM * DIM * 3, 1).to(device)\n",
    "criterion = nn.BCEWithLogitsLoss()\n",
    "optimizer = torch.optim.SGD(model.parameters(), lr=0.01, weight_decay=0.001)\n",
    "\n",
    "# train_classification(\n",
    "#     model,\n",
    "#     train_loader,\n",
    "#     optimizer,\n",
    "#     criterion,\n",
    "#     device,\n",
    "#     N_EPOCHS,\n",
    "#     is_multiclass=False,\n",
    "#     model_path=LOG_REG_MODEL\n",
    "# )"
   ]
  },
  {
   "cell_type": "code",
   "execution_count": null,
   "metadata": {},
   "outputs": [],
   "source": [
    "model.load_state_dict(torch.load(LOG_REG_MODEL))\n",
    "model.to(device)\n",
    "model.eval()\n",
    "\n",
    "metrics = torchmetrics.MetricCollection(\n",
    "    [\n",
    "        BinaryAUROC().to(device),\n",
    "        BinaryJaccardIndex().to(device),\n",
    "        BinaryAccuracy().to(device),\n",
    "        BinaryF1Score().to(device),\n",
    "        BinaryPrecision().to(device),\n",
    "        BinaryRecall().to(device),\n",
    "    ]\n",
    ")\n",
    "\n",
    "y_true, y_pred, total_metrics = eval_classification(\n",
    "    model,\n",
    "    test_loader,\n",
    "    metrics,\n",
    "    device,\n",
    "    is_multiclass=False,\n",
    ")\n",
    "\n",
    "accuracy = total_metrics[\"BinaryAccuracy\"]\n",
    "print(f\"Accuracy on test set: {accuracy:.2%}\")"
   ]
  },
  {
   "cell_type": "code",
   "execution_count": null,
   "metadata": {},
   "outputs": [],
   "source": [
    "class_names = [\"No Tumor\", \"Tumor\"]\n",
    "create_classification_results(\n",
    "    y_true,\n",
    "    y_pred,\n",
    "    class_names,\n",
    ")"
   ]
  }
 ],
 "metadata": {
  "kernelspec": {
   "display_name": "ai_project_env",
   "language": "python",
   "name": "python3"
  },
  "language_info": {
   "codemirror_mode": {
    "name": "ipython",
    "version": 3
   },
   "file_extension": ".py",
   "mimetype": "text/x-python",
   "name": "python",
   "nbconvert_exporter": "python",
   "pygments_lexer": "ipython3",
   "version": "3.11.8"
  }
 },
 "nbformat": 4,
 "nbformat_minor": 2
}
