{
 "cells": [
  {
   "cell_type": "code",
   "execution_count": 1,
   "metadata": {},
   "outputs": [],
   "source": [
    "from torchvision import transforms\n",
    "from torch.utils.data import DataLoader\n",
    "import pathlib\n",
    "import sys\n",
    "import torchmetrics\n",
    "from torchmetrics.classification import (\n",
    "    MulticlassAUROC,\n",
    "    MulticlassJaccardIndex,\n",
    "    MulticlassPrecision,\n",
    "    MulticlassRecall,\n",
    "    MulticlassF1Score,\n",
    "    MulticlassAccuracy,\n",
    "    BinaryAccuracy,\n",
    "    BinaryAUROC,\n",
    "    BinaryF1Score,\n",
    "    BinaryPrecision,\n",
    "    BinaryRecall,\n",
    "    BinaryJaccardIndex,\n",
    ")\n",
    "import torch\n",
    "import torch.nn as nn\n",
    "\n",
    "root = pathlib.Path().absolute().parent\n",
    "DATASET_PATH = root / 'datasets'\n",
    "MODEL_REGISTRY = root / 'model_registry'\n",
    "\n",
    "sys.path.append(str(root))\n",
    "\n",
    "from src.data.classification import TumorBinaryClassificationDataset, CLASSIFICATION_NORMALIZER\n",
    "from src.utils.config import get_device\n",
    "from src.enums import DataSplit\n",
    "from src.models.classification.logreg import LogisiticRegression\n",
    "from src.trainer import eval_classification, train_classification\n",
    "from src.utils.visualize import create_classification_results"
   ]
  },
  {
   "cell_type": "code",
   "execution_count": 2,
   "metadata": {},
   "outputs": [],
   "source": [
    "DIM = 256\n",
    "N_EPOCHS = 15\n",
    "BATCH_SIZE = 32\n",
    "\n",
    "transform = transforms.Compose(\n",
    "    [\n",
    "        transforms.Resize((DIM, DIM)),  # TODO: make this larger\n",
    "        transforms.ToTensor(),\n",
    "        CLASSIFICATION_NORMALIZER\n",
    "    ]\n",
    ")\n",
    "\n",
    "device = get_device()\n",
    "\n",
    "LOG_REG_MODEL = MODEL_REGISTRY / 'log_reg.pth'"
   ]
  },
  {
   "cell_type": "code",
   "execution_count": 3,
   "metadata": {},
   "outputs": [
    {
     "name": "stdout",
     "output_type": "stream",
     "text": [
      "Train dataset length:  5712\n",
      "Test dataset length:  1311\n"
     ]
    }
   ],
   "source": [
    "train_dataset = TumorBinaryClassificationDataset(\n",
    "    root_dir=DATASET_PATH,\n",
    "    split=DataSplit.TRAIN,\n",
    "    transform=transform,\n",
    ")\n",
    "\n",
    "test_dataset = TumorBinaryClassificationDataset(\n",
    "    root_dir=DATASET_PATH,\n",
    "    split=DataSplit.TEST,\n",
    "    transform=transform,\n",
    ")\n",
    "\n",
    "print(\"Train dataset length: \", len(train_dataset))\n",
    "print(\"Test dataset length: \", len(test_dataset))\n",
    "\n",
    "train_loader = DataLoader(train_dataset, batch_size=BATCH_SIZE, shuffle=True)\n",
    "test_loader = DataLoader(test_dataset, batch_size=BATCH_SIZE, shuffle=False)"
   ]
  },
  {
   "cell_type": "code",
   "execution_count": 4,
   "metadata": {},
   "outputs": [
    {
     "name": "stderr",
     "output_type": "stream",
     "text": [
      "Epoch 1/15:   0%|          | 0/179 [00:00<?, ?batch/s]"
     ]
    },
    {
     "name": "stderr",
     "output_type": "stream",
     "text": [
      "Epoch 1/15: 100%|██████████| 179/179 [00:15<00:00, 11.27batch/s, Avg Train Loss=0.5914362659001481, Phase=Train]\n"
     ]
    },
    {
     "name": "stdout",
     "output_type": "stream",
     "text": [
      "Epoch 1/15, Loss: 0.5914362659001481\n"
     ]
    },
    {
     "name": "stderr",
     "output_type": "stream",
     "text": [
      "Epoch 2/15: 100%|██████████| 179/179 [00:15<00:00, 11.47batch/s, Avg Train Loss=0.5917912878137728, Phase=Train]\n"
     ]
    },
    {
     "name": "stdout",
     "output_type": "stream",
     "text": [
      "Epoch 2/15, Loss: 0.5917912878137728\n"
     ]
    },
    {
     "name": "stderr",
     "output_type": "stream",
     "text": [
      "Epoch 3/15: 100%|██████████| 179/179 [00:15<00:00, 11.40batch/s, Avg Train Loss=0.5713794549417234, Phase=Train]\n"
     ]
    },
    {
     "name": "stdout",
     "output_type": "stream",
     "text": [
      "Epoch 3/15, Loss: 0.5713794549417234\n"
     ]
    },
    {
     "name": "stderr",
     "output_type": "stream",
     "text": [
      "Epoch 4/15: 100%|██████████| 179/179 [00:15<00:00, 11.82batch/s, Avg Train Loss=0.4957170326616512, Phase=Train] \n"
     ]
    },
    {
     "name": "stdout",
     "output_type": "stream",
     "text": [
      "Epoch 4/15, Loss: 0.4957170326616512\n"
     ]
    },
    {
     "name": "stderr",
     "output_type": "stream",
     "text": [
      "Epoch 5/15: 100%|██████████| 179/179 [00:15<00:00, 11.70batch/s, Avg Train Loss=0.48816892854328253, Phase=Train]\n"
     ]
    },
    {
     "name": "stdout",
     "output_type": "stream",
     "text": [
      "Epoch 5/15, Loss: 0.48816892854328253\n"
     ]
    },
    {
     "name": "stderr",
     "output_type": "stream",
     "text": [
      "Epoch 6/15: 100%|██████████| 179/179 [00:15<00:00, 11.72batch/s, Avg Train Loss=0.4846838496250814, Phase=Train] \n"
     ]
    },
    {
     "name": "stdout",
     "output_type": "stream",
     "text": [
      "Epoch 6/15, Loss: 0.4846838496250814\n"
     ]
    },
    {
     "name": "stderr",
     "output_type": "stream",
     "text": [
      "Epoch 7/15: 100%|██████████| 179/179 [00:15<00:00, 11.86batch/s, Avg Train Loss=0.4820954971140324, Phase=Train] \n"
     ]
    },
    {
     "name": "stdout",
     "output_type": "stream",
     "text": [
      "Epoch 7/15, Loss: 0.4820954971140324\n"
     ]
    },
    {
     "name": "stderr",
     "output_type": "stream",
     "text": [
      "Epoch 8/15: 100%|██████████| 179/179 [00:15<00:00, 11.67batch/s, Avg Train Loss=0.4773571852532181, Phase=Train] \n"
     ]
    },
    {
     "name": "stdout",
     "output_type": "stream",
     "text": [
      "Epoch 8/15, Loss: 0.4773571852532181\n"
     ]
    },
    {
     "name": "stderr",
     "output_type": "stream",
     "text": [
      "Epoch 9/15: 100%|██████████| 179/179 [00:15<00:00, 11.67batch/s, Avg Train Loss=0.473619336023011, Phase=Train]  \n"
     ]
    },
    {
     "name": "stdout",
     "output_type": "stream",
     "text": [
      "Epoch 9/15, Loss: 0.473619336023011\n"
     ]
    },
    {
     "name": "stderr",
     "output_type": "stream",
     "text": [
      "Epoch 10/15: 100%|██████████| 179/179 [00:15<00:00, 11.89batch/s, Avg Train Loss=0.47173588718781906, Phase=Train]\n"
     ]
    },
    {
     "name": "stdout",
     "output_type": "stream",
     "text": [
      "Epoch 10/15, Loss: 0.47173588718781906\n"
     ]
    },
    {
     "name": "stderr",
     "output_type": "stream",
     "text": [
      "Epoch 11/15: 100%|██████████| 179/179 [00:15<00:00, 11.87batch/s, Avg Train Loss=0.4695596615029448, Phase=Train] \n"
     ]
    },
    {
     "name": "stdout",
     "output_type": "stream",
     "text": [
      "Epoch 11/15, Loss: 0.4695596615029448\n"
     ]
    },
    {
     "name": "stderr",
     "output_type": "stream",
     "text": [
      "Epoch 12/15: 100%|██████████| 179/179 [00:14<00:00, 12.01batch/s, Avg Train Loss=0.4659164036785425, Phase=Train] \n"
     ]
    },
    {
     "name": "stdout",
     "output_type": "stream",
     "text": [
      "Epoch 12/15, Loss: 0.4659164036785425\n"
     ]
    },
    {
     "name": "stderr",
     "output_type": "stream",
     "text": [
      "Epoch 13/15: 100%|██████████| 179/179 [00:14<00:00, 11.94batch/s, Avg Train Loss=0.46523860762905156, Phase=Train]\n"
     ]
    },
    {
     "name": "stdout",
     "output_type": "stream",
     "text": [
      "Epoch 13/15, Loss: 0.46523860762905156\n"
     ]
    },
    {
     "name": "stderr",
     "output_type": "stream",
     "text": [
      "Epoch 14/15: 100%|██████████| 179/179 [00:14<00:00, 11.94batch/s, Avg Train Loss=0.4628052278603921, Phase=Train] \n"
     ]
    },
    {
     "name": "stdout",
     "output_type": "stream",
     "text": [
      "Epoch 14/15, Loss: 0.4628052278603921\n"
     ]
    },
    {
     "name": "stderr",
     "output_type": "stream",
     "text": [
      "Epoch 15/15: 100%|██████████| 179/179 [00:15<00:00, 11.81batch/s, Avg Train Loss=0.4614648297845319, Phase=Train] "
     ]
    },
    {
     "name": "stdout",
     "output_type": "stream",
     "text": [
      "Epoch 15/15, Loss: 0.4614648297845319\n"
     ]
    },
    {
     "name": "stderr",
     "output_type": "stream",
     "text": [
      "\n"
     ]
    },
    {
     "data": {
      "text/plain": [
       "0.4614648297845319"
      ]
     },
     "execution_count": 4,
     "metadata": {},
     "output_type": "execute_result"
    }
   ],
   "source": [
    "model = LogisiticRegression(DIM * DIM * 3, 1).to(device)\n",
    "criterion = nn.BCEWithLogitsLoss()\n",
    "optimizer = torch.optim.SGD(model.parameters(), lr=0.01, weight_decay=0.001)\n",
    "\n",
    "# train_classification(\n",
    "#     model,\n",
    "#     train_loader,\n",
    "#     optimizer,\n",
    "#     criterion,\n",
    "#     device,\n",
    "#     N_EPOCHS,\n",
    "#     is_multiclass=False,\n",
    "#     model_path=LOG_REG_MODEL\n",
    "# )"
   ]
  },
  {
   "cell_type": "code",
   "execution_count": 7,
   "metadata": {},
   "outputs": [
    {
     "name": "stderr",
     "output_type": "stream",
     "text": [
      "  0%|          | 0/41 [00:00<?, ?it/s]/home/jhrudd/miniconda3/envs/ai_project_env/lib/python3.11/site-packages/torchmetrics/utilities/prints.py:43: UserWarning: No negative samples in targets, false positive value should be meaningless. Returning zero tensor in false positive score\n",
      "  warnings.warn(*args, **kwargs)  # noqa: B028\n",
      " 44%|████▍     | 18/41 [00:01<00:02, 11.46it/s]/home/jhrudd/miniconda3/envs/ai_project_env/lib/python3.11/site-packages/torchmetrics/utilities/prints.py:43: UserWarning: No positive samples in targets, true positive value should be meaningless. Returning zero tensor in true positive score\n",
      "  warnings.warn(*args, **kwargs)  # noqa: B028\n",
      "100%|██████████| 41/41 [00:03<00:00, 12.12it/s]"
     ]
    },
    {
     "name": "stdout",
     "output_type": "stream",
     "text": [
      "Evaluation metrics: BinaryAUROC: 0.7945997714996338\n",
      "BinaryJaccardIndex: 0.8097514510154724\n",
      "BinaryAccuracy: 0.8482074737548828\n",
      "BinaryF1Score: 0.8948758840560913\n",
      "BinaryPrecision: 0.8581560254096985\n",
      "BinaryRecall: 0.9348785877227783\n",
      "Accuracy on test set: 84.82%\n"
     ]
    },
    {
     "name": "stderr",
     "output_type": "stream",
     "text": [
      "\n"
     ]
    }
   ],
   "source": [
    "model.load_state_dict(torch.load(LOG_REG_MODEL))\n",
    "model.to(device)\n",
    "model.eval()\n",
    "\n",
    "metrics = torchmetrics.MetricCollection(\n",
    "    [\n",
    "        BinaryAUROC().to(device),\n",
    "        BinaryJaccardIndex().to(device),\n",
    "        BinaryAccuracy().to(device),\n",
    "        BinaryF1Score().to(device),\n",
    "        BinaryPrecision().to(device),\n",
    "        BinaryRecall().to(device),\n",
    "    ]\n",
    ")\n",
    "\n",
    "y_true, y_pred, total_metrics = eval_classification(\n",
    "    model,\n",
    "    test_loader,\n",
    "    metrics,\n",
    "    device,\n",
    "    is_multiclass=False,\n",
    ")\n",
    "\n",
    "accuracy = total_metrics[\"BinaryAccuracy\"]\n",
    "print(f\"Accuracy on test set: {accuracy:.2%}\")"
   ]
  },
  {
   "cell_type": "code",
   "execution_count": 8,
   "metadata": {},
   "outputs": [
    {
     "data": {
      "image/png": "[encoded data removed]",
      "text/plain": [
       "<Figure size 800x600 with 1 Axes>"
      ]
     },
     "metadata": {},
     "output_type": "display_data"
    },
    {
     "data": {
      "image/png": "[encoded data removed]",
      "text/plain": [
       "<Figure size 800x600 with 2 Axes>"
      ]
     },
     "metadata": {},
     "output_type": "display_data"
    }
   ],
   "source": [
    "class_names = [\"No Tumor\", \"Tumor\"]\n",
    "create_classification_results(\n",
    "    y_true,\n",
    "    y_pred,\n",
    "    class_names,\n",
    ")"
   ]
  }
 ],
 "metadata": {
  "kernelspec": {
   "display_name": "ai_project_env",
   "language": "python",
   "name": "python3"
  },
  "language_info": {
   "codemirror_mode": {
    "name": "ipython",
    "version": 3
   },
   "file_extension": ".py",
   "mimetype": "text/x-python",
   "name": "python",
   "nbconvert_exporter": "python",
   "pygments_lexer": "ipython3",
   "version": "3.11.8"
  }
 },
 "nbformat": 4,
 "nbformat_minor": 2
}
