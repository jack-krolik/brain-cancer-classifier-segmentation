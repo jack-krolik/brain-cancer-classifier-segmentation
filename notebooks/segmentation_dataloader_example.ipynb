{
 "cells": [
  {
   "cell_type": "code",
   "execution_count": null,
   "metadata": {},
   "outputs": [],
   "source": [
    "import sys\n",
    "import os\n",
    "from torch.utils.data import DataLoader\n",
    "import matplotlib.pyplot as plt\n",
    "import torchvision.transforms as transforms\n",
    "import json\n",
    "\n",
    "current_dir = os.getcwd()\n",
    "src_dir = os.path.join(current_dir, '..')\n",
    "\n",
    "if src_dir not in sys.path:\n",
    "    sys.path.append(src_dir)\n",
    "\n",
    "from src.enums import DataSplit\n",
    "from src.utils.visualize import show_images_with_masks\n",
    "from src.tumor_dataset import TumorSemanticSegmentationDataset\n",
    "from src.utils.transforms import DualInputCompose, DualInputTransform, DualInputResize"
   ]
  },
  {
   "cell_type": "code",
   "execution_count": null,
   "metadata": {},
   "outputs": [],
   "source": [
    "DATASETS_ROOT = os.path.join(current_dir, '..', 'datasets')\n",
    "BATCH_SIZE = 16"
   ]
  },
  {
   "cell_type": "code",
   "execution_count": null,
   "metadata": {},
   "outputs": [],
   "source": [
    "dataset = TumorSemanticSegmentationDataset(root_dir=DATASETS_ROOT, split=DataSplit.TRAIN, transform=DualInputTransform(transforms.ToTensor()))\n",
    "data_loader = DataLoader(dataset, batch_size=BATCH_SIZE, shuffle=True, num_workers=0)\n",
    "images, masks = next(iter(data_loader)) # get a batch of data\n",
    "print('Data shapes: ',images.shape, masks.shape)\n",
    "show_images_with_masks(images, masks, nmax=BATCH_SIZE)"
   ]
  },
  {
   "cell_type": "code",
   "execution_count": null,
   "metadata": {},
   "outputs": [],
   "source": [
    "# Try resizing images to 320x320\n",
    "resize_transform = DualInputCompose([\n",
    "    DualInputResize((320, 320)),\n",
    "    DualInputTransform(transforms.ToTensor())\n",
    "])\n",
    "\n",
    "dataset = TumorSemanticSegmentationDataset(root_dir=DATASETS_ROOT, split=DataSplit.TRAIN, transform=resize_transform)\n",
    "print(f'Dataset length: {len(dataset)}')\n",
    "data_loader = DataLoader(dataset, batch_size=BATCH_SIZE, shuffle=True, num_workers=0)\n",
    "images, masks = next(iter(data_loader)) # get a batch of data\n",
    "print(f'Images shape: {images.shape}, Masks shape: {masks.shape}')\n",
    "show_images_with_masks(images, masks, nmax=BATCH_SIZE)"
   ]
  }
 ],
 "metadata": {
  "kernelspec": {
   "display_name": "School",
   "language": "python",
   "name": "python3"
  },
  "language_info": {
   "codemirror_mode": {
    "name": "ipython",
    "version": 3
   },
   "file_extension": ".py",
   "mimetype": "text/x-python",
   "name": "python",
   "nbconvert_exporter": "python",
   "pygments_lexer": "ipython3",
   "version": "3.12.1"
  }
 },
 "nbformat": 4,
 "nbformat_minor": 2
}
