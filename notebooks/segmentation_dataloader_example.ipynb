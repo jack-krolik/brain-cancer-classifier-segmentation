{
 "cells": [
  {
   "cell_type": "code",
   "execution_count": null,
   "metadata": {},
   "outputs": [],
   "source": [
    "import sys\n",
    "import os\n",
    "from torch.utils.data import DataLoader\n",
    "import matplotlib.pyplot as plt\n",
    "import torchvision.transforms as transforms\n",
    "import json\n",
    "import pathlib\n",
    "\n",
    "src_dir = pathlib.Path().absolute().parent\n",
    "\n",
    "# modify the sys.path to include the source directory\n",
    "sys.path.append(str(src_dir))\n",
    "\n",
    "from src.enums import DataSplit\n",
    "from src.utils.visualize import plot_images_and_masks\n",
    "from src.data.segmentation import BoxSegmentationDataset, LGGSegmentationDataset\n",
    "from src.utils.transforms import DualInputCompose, DualInputTransform, DualInputResize"
   ]
  },
  {
   "cell_type": "code",
   "execution_count": null,
   "metadata": {},
   "outputs": [],
   "source": [
    "DATASETS_ROOT = src_dir / 'datasets'\n",
    "BATCH_SIZE = 5\n",
    "base_transform = DualInputTransform(transforms.ToTensor())"
   ]
  },
  {
   "cell_type": "code",
   "execution_count": null,
   "metadata": {},
   "outputs": [],
   "source": [
    "dataset = BoxSegmentationDataset(root_dir=DATASETS_ROOT, split=DataSplit.TRAIN, transform=base_transform)\n",
    "data_loader = DataLoader(dataset, batch_size=BATCH_SIZE, shuffle=True, num_workers=0)\n",
    "images, masks = next(iter(data_loader)) # get a batch of data\n",
    "print('Data shapes: ',images.shape, masks.shape)\n",
    "plot_images_and_masks(images, masks)"
   ]
  },
  {
   "cell_type": "code",
   "execution_count": null,
   "metadata": {},
   "outputs": [],
   "source": [
    "# Try resizing images to 320x320\n",
    "resize_transform = DualInputCompose([\n",
    "    DualInputResize((320, 320)),\n",
    "    DualInputTransform(transforms.ToTensor())\n",
    "])\n",
    "\n",
    "dataset = LGGSegmentationDataset(root_dir=DATASETS_ROOT, split=DataSplit.TRAIN, transform=resize_transform)\n",
    "print(f'Dataset length: {len(dataset)}')\n",
    "data_loader = DataLoader(dataset, batch_size=BATCH_SIZE, shuffle=True, num_workers=0)\n",
    "images, masks = next(iter(data_loader)) # get a batch of data\n",
    "print(f'Images shape: {images.shape}, Masks shape: {masks.shape}')\n",
    "plot_images_and_masks(images, masks)"
   ]
  }
 ],
 "metadata": {
  "kernelspec": {
   "display_name": "School",
   "language": "python",
   "name": "python3"
  },
  "language_info": {
   "codemirror_mode": {
    "name": "ipython",
    "version": 3
   },
   "file_extension": ".py",
   "mimetype": "text/x-python",
   "name": "python",
   "nbconvert_exporter": "python",
   "pygments_lexer": "ipython3",
   "version": "3.11.8"
  }
 },
 "nbformat": 4,
 "nbformat_minor": 2
}
