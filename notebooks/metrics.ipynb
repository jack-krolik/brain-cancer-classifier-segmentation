{
 "cells": [
  {
   "cell_type": "code",
   "execution_count": 2,
   "metadata": {},
   "outputs": [],
   "source": [
    "import pathlib\n",
    "import sys\n",
    "import torch\n",
    "\n",
    "path = pathlib.Path().absolute()\n",
    "src = path.parent\n",
    "\n",
    "# modify the sys.path to include the source directory\n",
    "sys.path.append(str(src))\n",
    "\n",
    "from src.metrics import *"
   ]
  },
  {
   "cell_type": "code",
   "execution_count": 3,
   "metadata": {},
   "outputs": [
    {
     "data": {
      "text/plain": [
       "{'ConfusionMatrixMetric': array([[5., 1.],\n",
       "        [3., 9.]]),\n",
       " 'PrecisionMetric': 0.9,\n",
       " 'RecallMetric': 0.75,\n",
       " 'F1ScoreMetric': 0.8181818181818182,\n",
       " 'AccuracyMetric': 0.7777777777777778}"
      ]
     },
     "execution_count": 3,
     "metadata": {},
     "output_type": "execute_result"
    }
   ],
   "source": [
    "metrics_pipeline = MetricsPipeline([\n",
    "    ConfusionMatrixMetric(num_classes=2),\n",
    "    PrecisionMetric(),\n",
    "    RecallMetric(),\n",
    "    F1ScoreMetric(),\n",
    "    AccuracyMetric()\n",
    "])\n",
    "\n",
    "example_preds = torch.tensor(  [1, 1, 1, 0, 1, 0, 0, 1, 1])\n",
    "example_targets = torch.tensor([1, 1, 0, 1, 1, 0, 0, 1, 1])\n",
    "\n",
    "\n",
    "example_preds_2 = torch.tensor(  [0, 1, 0, 0, 1, 0, 0, 1, 1])\n",
    "example_targets_2 = torch.tensor([1, 1, 0, 1, 1, 0, 0, 1, 1])\n",
    "\n",
    "metrics_pipeline.update(example_preds, example_targets)\n",
    "metrics_pipeline.update(example_preds_2, example_targets_2)\n",
    "final_values = metrics_pipeline.compute_final()\n",
    "final_values"
   ]
  }
 ],
 "metadata": {
  "kernelspec": {
   "display_name": "ai_project_env",
   "language": "python",
   "name": "python3"
  },
  "language_info": {
   "codemirror_mode": {
    "name": "ipython",
    "version": 3
   },
   "file_extension": ".py",
   "mimetype": "text/x-python",
   "name": "python",
   "nbconvert_exporter": "python",
   "pygments_lexer": "ipython3",
   "version": "3.11.8"
  }
 },
 "nbformat": 4,
 "nbformat_minor": 2
}
