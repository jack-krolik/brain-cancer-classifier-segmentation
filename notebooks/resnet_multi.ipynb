{
 "cells": [
  {
   "cell_type": "code",
   "execution_count": null,
   "metadata": {},
   "outputs": [],
   "source": [
    "import matplotlib.pyplot as plt\n",
    "import torch\n",
    "import torch.nn as nn\n",
    "import torch.optim as optim\n",
    "import torch.nn.functional as F\n",
    "import sys\n",
    "import os\n",
    "import seaborn as sns\n",
    "import pandas as pd\n",
    "from torchvision import transforms\n",
    "from torch.utils.data import DataLoader\n",
    "from sklearn.metrics import classification_report, confusion_matrix\n",
    "from tqdm import tqdm\n",
    "import torchmetrics\n",
    "from torchmetrics.classification import (\n",
    "    MulticlassAccuracy,\n",
    "    MulticlassAUROC,\n",
    "    MulticlassF1Score,\n",
    "    MulticlassPrecision,\n",
    "    MulticlassRecall,\n",
    "    MulticlassJaccardIndex\n",
    ")\n",
    "from argparse import Namespace\n",
    "\n",
    "current_dir = os.getcwd()\n",
    "src_dir = os.path.join(current_dir, '..')\n",
    "\n",
    "if src_dir not in sys.path:\n",
    "    sys.path.append(src_dir)\n",
    "\n",
    "from src.data.classification import TumorClassificationDataset\n",
    "from src.enums import DataSplit\n",
    "from src.models.classification.resnet import MultiResNetClassifier\n",
    "from src.utils.config import get_device\n",
    "from src.trainer import train_classification, eval_classification\n",
    "from src.utils.visualize import create_classification_results"
   ]
  },
  {
   "cell_type": "code",
   "execution_count": null,
   "metadata": {},
   "outputs": [],
   "source": [
    "DATASETS_ROOT = os.path.join(current_dir, '..', 'datasets')\n",
    "BATCH_SIZE = 32\n",
    "\n",
    "# Define the transformation pipeline for the dataset\n",
    "transform = transforms.Compose([\n",
    "    transforms.Resize((224, 224)),  # Resize all images to 224x224\n",
    "    transforms.ToTensor(),  # Convert images to tensor\n",
    "    # Add any other transforms here, e.g., normalization\n",
    "])\n",
    "\n",
    "device = get_device()\n",
    "NUM_CLASSES = 4\n",
    "\n",
    "MULTI_MODEL_PATH = os.path.join(src_dir, 'model_registry', 'tumor_resnetmulticlassifier.pth')"
   ]
  },
  {
   "cell_type": "code",
   "execution_count": null,
   "metadata": {},
   "outputs": [],
   "source": [
    "# Step 1: Prepare the Data\n",
    "train_dataset = TumorClassificationDataset(root_dir=DATASETS_ROOT, split=DataSplit.TRAIN, transform=transform)\n",
    "test_dataset = TumorClassificationDataset(root_dir=DATASETS_ROOT, split=DataSplit.TEST, transform=transform)\n",
    "\n",
    "# Define data loaders for training and testing sets\n",
    "train_loader = DataLoader(train_dataset, batch_size=BATCH_SIZE, shuffle=True)\n",
    "test_loader = DataLoader(test_dataset, batch_size=BATCH_SIZE, shuffle=False)"
   ]
  },
  {
   "cell_type": "code",
   "execution_count": null,
   "metadata": {},
   "outputs": [],
   "source": [
    "# Step 2: Define the Model\n",
    "model = MultiResNetClassifier(num_classes=NUM_CLASSES)\n",
    "criterion = nn.CrossEntropyLoss()\n",
    "\n",
    "optimizer = optim.Adam(model.parameters(), lr=0.001)\n",
    "\n",
    "# train_classification(model, train_loader, optimizer, criterion, device, n_epochs=10, is_multiclass=True, model_path=MULTI_MODEL_PATH)"
   ]
  },
  {
   "cell_type": "code",
   "execution_count": null,
   "metadata": {},
   "outputs": [],
   "source": [
    "#load model\n",
    "model = MultiResNetClassifier(num_classes=NUM_CLASSES)\n",
    "model.load_state_dict(torch.load(MULTI_MODEL_PATH))\n",
    "model.to(device)"
   ]
  },
  {
   "cell_type": "code",
   "execution_count": null,
   "metadata": {},
   "outputs": [],
   "source": [
    "metrics = torchmetrics.MetricCollection(\n",
    "    [\n",
    "        MulticlassAUROC(NUM_CLASSES).to(device),\n",
    "        MulticlassJaccardIndex(NUM_CLASSES).to(device),\n",
    "        MulticlassAccuracy(NUM_CLASSES).to(device),\n",
    "        MulticlassF1Score(NUM_CLASSES).to(device),\n",
    "        MulticlassPrecision(NUM_CLASSES).to(device),\n",
    "        MulticlassRecall(NUM_CLASSES).to(device),\n",
    "    ]\n",
    ")\n",
    "\n",
    "# Step 5: Evaluation\n",
    "# Set the model to evaluation mode. This affects layers like dropout and batchnorm.\n",
    "# Disable gradient computation since we don't need it for evaluation\n",
    "with torch.no_grad():\n",
    "    # Iterate over the batches of images and labels in the test data loader\n",
    "    y_true, y_pred, total_metrics = eval_classification(model, test_loader, metrics, device, is_multiclass=True)\n",
    "        \n",
    "# Compute the accuracy as the percentage of correctly classified images\n",
    "print(f'Accuracy of the network on the test images: {total_metrics[\"MulticlassAccuracy\"]:.2%}')  "
   ]
  },
  {
   "cell_type": "code",
   "execution_count": null,
   "metadata": {},
   "outputs": [],
   "source": [
    "# Convert classification report to dictionary for seaborn heatmap\n",
    "class_names = ['Glioma', 'Meningioma', 'No Tumor', 'Pituitary']\n",
    "create_classification_results(y_true, y_pred, class_names)"
   ]
  },
  {
   "cell_type": "code",
   "execution_count": null,
   "metadata": {},
   "outputs": [],
   "source": []
  }
 ],
 "metadata": {
  "kernelspec": {
   "display_name": "Python 3",
   "language": "python",
   "name": "python3"
  },
  "language_info": {
   "codemirror_mode": {
    "name": "ipython",
    "version": 3
   },
   "file_extension": ".py",
   "mimetype": "text/x-python",
   "name": "python",
   "nbconvert_exporter": "python",
   "pygments_lexer": "ipython3",
   "version": "3.11.8"
  }
 },
 "nbformat": 4,
 "nbformat_minor": 2
}
