{
 "cells": [
  {
   "cell_type": "code",
   "execution_count": null,
   "metadata": {},
   "outputs": [],
   "source": [
    "from torchvision import transforms\n",
    "from torch.utils.data import DataLoader\n",
    "import pathlib\n",
    "import sys\n",
    "import torchmetrics\n",
    "from torchmetrics.classification import (\n",
    "    MulticlassAUROC,\n",
    "    MulticlassJaccardIndex,\n",
    "    MulticlassPrecision,\n",
    "    MulticlassRecall,\n",
    "    MulticlassF1Score,\n",
    "    MulticlassAccuracy,\n",
    "    BinaryAccuracy,\n",
    "    BinaryAUROC,\n",
    "    BinaryF1Score,\n",
    "    BinaryPrecision,\n",
    "    BinaryRecall,\n",
    "    BinaryJaccardIndex,\n",
    ")\n",
    "import torch\n",
    "import torch.nn as nn\n",
    "\n",
    "root = pathlib.Path().absolute().parent\n",
    "DATASET_PATH = root / 'datasets'\n",
    "MODEL_REGISTRY = root / 'model_registry'\n",
    "\n",
    "sys.path.append(str(root))\n",
    "\n",
    "from src.data.classification import TumorClassificationDataset, TumorBinaryClassificationDataset, CLASSIFICATION_NORMALIZER\n",
    "from src.utils.config import get_device\n",
    "from src.enums import DataSplit\n",
    "from src.models.classification.cnn import ClassificationMulticlassCNN, ClassificationCNN\n",
    "from src.trainer import eval_classification, train_classification\n",
    "from src.utils.visualize import create_classification_results"
   ]
  },
  {
   "cell_type": "code",
   "execution_count": null,
   "metadata": {},
   "outputs": [],
   "source": [
    "DIM = 256\n",
    "N_EPOCHS = 20\n",
    "BATCH_SIZE = 32\n",
    "\n",
    "transform = transforms.Compose(\n",
    "    [\n",
    "        transforms.Resize((DIM, DIM)),  # TODO: make this larger\n",
    "        transforms.ToTensor(),\n",
    "        CLASSIFICATION_NORMALIZER\n",
    "    ]\n",
    ")\n",
    "\n",
    "device = get_device()\n",
    "\n",
    "CNN_MULTI_MODEL = MODEL_REGISTRY / 'cnn_multi.pth'\n",
    "CNN_BINARY_MODEL = MODEL_REGISTRY / 'cnn_binary.pth'\n",
    "\n",
    "def build_model_for_job(is_multiclass: bool):\n",
    "    \"\"\"\n",
    "    Builds a model for the job based on the type of classification task\n",
    "\n",
    "    Args:\n",
    "        is_multiclass (bool): Whether the task is multiclass or binary\n",
    "    \"\"\"\n",
    "    if is_multiclass:\n",
    "        model = ClassificationMulticlassCNN()\n",
    "        criterion = nn.CrossEntropyLoss()\n",
    "    else:\n",
    "        model = ClassificationCNN()\n",
    "        criterion = nn.BCEWithLogitsLoss()\n",
    "    optimizer = torch.optim.SGD(model.parameters(), lr=0.01, weight_decay=0.001)\n",
    "\n",
    "    return model, criterion, optimizer"
   ]
  },
  {
   "cell_type": "markdown",
   "metadata": {},
   "source": [
    "### Binary Classification"
   ]
  },
  {
   "cell_type": "code",
   "execution_count": null,
   "metadata": {},
   "outputs": [],
   "source": [
    "train_dataset = TumorBinaryClassificationDataset(\n",
    "    root_dir=DATASET_PATH,\n",
    "    split=DataSplit.TRAIN,\n",
    "    transform=transform,\n",
    ")\n",
    "\n",
    "test_dataset = TumorBinaryClassificationDataset(\n",
    "    root_dir=DATASET_PATH,\n",
    "    split=DataSplit.TEST,\n",
    "    transform=transform,\n",
    ")\n",
    "\n",
    "print(\"Train dataset length: \", len(train_dataset))\n",
    "print(\"Test dataset length: \", len(test_dataset))\n",
    "\n",
    "train_loader = DataLoader(train_dataset, batch_size=BATCH_SIZE, shuffle=True)\n",
    "test_loader = DataLoader(test_dataset, batch_size=BATCH_SIZE, shuffle=False)"
   ]
  },
  {
   "cell_type": "code",
   "execution_count": null,
   "metadata": {},
   "outputs": [],
   "source": [
    "model, criterion, optimizer = build_model_for_job(is_multiclass=False)\n",
    "model.to(device)\n",
    "\n",
    "# train_classification(\n",
    "#     model,\n",
    "#     train_loader,\n",
    "#     optimizer,\n",
    "#     criterion,\n",
    "#     device,\n",
    "#     N_EPOCHS,\n",
    "#     is_multiclass=False,\n",
    "#     model_path=CNN_BINARY_MODEL\n",
    "# )"
   ]
  },
  {
   "cell_type": "code",
   "execution_count": null,
   "metadata": {},
   "outputs": [],
   "source": [
    "model.load_state_dict(torch.load(CNN_BINARY_MODEL))\n",
    "model.to(device)\n",
    "model.eval()\n",
    "\n",
    "metrics = torchmetrics.MetricCollection(\n",
    "    [\n",
    "        BinaryAUROC().to(device),\n",
    "        BinaryJaccardIndex().to(device),\n",
    "        BinaryAccuracy().to(device),\n",
    "        BinaryF1Score().to(device),\n",
    "        BinaryPrecision().to(device),\n",
    "        BinaryRecall().to(device),\n",
    "    ]\n",
    ")\n",
    "\n",
    "y_true, y_pred, total_metrics = eval_classification(\n",
    "    model,\n",
    "    test_loader,\n",
    "    metrics,\n",
    "    device,\n",
    "    is_multiclass=False,\n",
    ")\n",
    "\n",
    "bin_accuracy = total_metrics[\"BinaryAccuracy\"]\n",
    "print(f'Accuracy on test set: {bin_accuracy:.2%}')\n"
   ]
  },
  {
   "cell_type": "code",
   "execution_count": null,
   "metadata": {},
   "outputs": [],
   "source": [
    "class_names = ['No Tumor', 'Tumor']\n",
    "create_classification_results(y_true, y_pred, class_names=class_names)"
   ]
  },
  {
   "cell_type": "markdown",
   "metadata": {},
   "source": [
    "### Multi Classification"
   ]
  },
  {
   "cell_type": "code",
   "execution_count": null,
   "metadata": {},
   "outputs": [],
   "source": [
    "train_dataset = TumorClassificationDataset(\n",
    "    root_dir=DATASET_PATH,\n",
    "    split=DataSplit.TRAIN,\n",
    "    transform=transform,\n",
    ")\n",
    "\n",
    "test_dataset = TumorClassificationDataset(\n",
    "    root_dir=DATASET_PATH,\n",
    "    split=DataSplit.TEST,\n",
    "    transform=transform,\n",
    ")\n",
    "\n",
    "print(\"Train dataset length: \", len(train_dataset))\n",
    "print(\"Test dataset length: \", len(test_dataset))\n",
    "\n",
    "train_loader = DataLoader(train_dataset, batch_size=BATCH_SIZE, shuffle=True)\n",
    "test_loader = DataLoader(test_dataset, batch_size=BATCH_SIZE, shuffle=False)"
   ]
  },
  {
   "cell_type": "code",
   "execution_count": null,
   "metadata": {},
   "outputs": [],
   "source": [
    "model, criterion, optimizer = build_model_for_job(is_multiclass=True)\n",
    "model.to(device)\n",
    "train_classification(\n",
    "    model,\n",
    "    train_loader,\n",
    "    optimizer,\n",
    "    criterion,\n",
    "    device,\n",
    "    N_EPOCHS,\n",
    "    is_multiclass=True,\n",
    "    model_path=CNN_MULTI_MODEL\n",
    ")"
   ]
  },
  {
   "cell_type": "code",
   "execution_count": null,
   "metadata": {},
   "outputs": [],
   "source": [
    "# Load the model\n",
    "model.load_state_dict(torch.load(CNN_MULTI_MODEL))\n",
    "model.eval()  # Set the model to evaluation mode\n",
    "model.to(device)\n",
    "\n",
    "metrics = torchmetrics.MetricCollection(\n",
    "    [\n",
    "        MulticlassAUROC(4).to(device),\n",
    "        MulticlassJaccardIndex(4).to(device),\n",
    "        MulticlassAccuracy(4).to(device),\n",
    "        MulticlassF1Score(4).to(device),\n",
    "        MulticlassPrecision(4).to(device),\n",
    "        MulticlassRecall(4).to(device),\n",
    "    ]\n",
    ")\n",
    "\n",
    "with torch.no_grad():\n",
    "    y_true, y_pred, total_metrics = eval_classification(\n",
    "        model, test_loader, metrics, device, is_multiclass=True\n",
    "    )\n",
    "\n",
    "    print(f\"Validation Metrics: \", total_metrics)\n",
    "\n",
    "multi_class_accuracy = total_metrics[\"MulticlassAccuracy\"]\n",
    "print(f\"Multi-class accuracy: {multi_class_accuracy:.2%}\")"
   ]
  },
  {
   "cell_type": "code",
   "execution_count": null,
   "metadata": {},
   "outputs": [],
   "source": [
    "class_names = ['Glioma', 'Meningioma', 'No Tumor', 'Pituitary']\n",
    "create_classification_results(y_true, y_pred, class_names)\n"
   ]
  }
 ],
 "metadata": {
  "kernelspec": {
   "display_name": "ai_project_env",
   "language": "python",
   "name": "python3"
  },
  "language_info": {
   "codemirror_mode": {
    "name": "ipython",
    "version": 3
   },
   "file_extension": ".py",
   "mimetype": "text/x-python",
   "name": "python",
   "nbconvert_exporter": "python",
   "pygments_lexer": "ipython3",
   "version": "3.11.8"
  }
 },
 "nbformat": 4,
 "nbformat_minor": 2
}
