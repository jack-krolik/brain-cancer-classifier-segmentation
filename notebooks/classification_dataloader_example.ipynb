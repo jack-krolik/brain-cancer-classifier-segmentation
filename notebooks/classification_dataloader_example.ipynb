{
 "cells": [
  {
   "cell_type": "code",
   "execution_count": null,
   "metadata": {},
   "outputs": [],
   "source": [
    "import sys\n",
    "import os\n",
    "from torch.utils.data import DataLoader\n",
    "import matplotlib.pyplot as plt\n",
    "import torchvision.transforms as transforms\n",
    "\n",
    "current_dir = os.getcwd()\n",
    "src_dir = os.path.join(current_dir, '..')\n",
    "if src_dir not in sys.path:\n",
    "    sys.path.append(src_dir)\n",
    "\n",
    "\n",
    "from src.data.classification import TumorBinaryClassificationDataset\n",
    "from src.enums import DataSplit"
   ]
  },
  {
   "cell_type": "code",
   "execution_count": null,
   "metadata": {},
   "outputs": [],
   "source": [
    "DATASETS_ROOT = os.path.join(current_dir, '..', 'datasets')\n",
    "BATCH_SIZE = 4\n",
    "\n",
    "transform = transforms.Compose([\n",
    "    transforms.Resize((224, 224)),  # Resize all images to 224x224\n",
    "    transforms.ToTensor(),  # Convert images to tensor\n",
    "    # Add any other transforms here, e.g., normalization\n",
    "])\n",
    "\n",
    "dataset = TumorBinaryClassificationDataset(root_dir=DATASETS_ROOT, split=DataSplit.TRAIN, transform=transform)\n",
    "\n",
    "data_loader = DataLoader(dataset, batch_size=BATCH_SIZE, shuffle=True, num_workers=0)"
   ]
  },
  {
   "cell_type": "code",
   "execution_count": null,
   "metadata": {},
   "outputs": [],
   "source": [
    "def show_images_with_labels(images, labels, nmax=32):\n",
    "    # Convert a batch of images and labels into a grid of images with labels underneath\n",
    "    n_rows = (nmax + 1) // 2  # Add 1 to nmax to ensure rounding up if nmax is odd\n",
    "    n_cols = 1  # Two images per row\n",
    "    fig, axs = plt.subplots(n_rows, n_cols, figsize=(10, n_rows * 5))\n",
    "    axs = axs.flatten()\n",
    "    \n",
    "    for ax, image, label in zip(axs, images, labels):\n",
    "        \n",
    "        ax.imshow(image.permute(1, 2, 0))  # Convert from PyTorch's CxHxW to Matplotlib's HxWxC\n",
    "        ax.set_title(label)\n",
    "        ax.axis('off')\n",
    "    \n",
    "    # Hide any remaining subplots not used\n",
    "    for ax in axs[len(images):]:\n",
    "        ax.axis('off')\n",
    "\n",
    "    plt.tight_layout()\n",
    "    plt.show()\n",
    "\n",
    "images, labels = next(iter(data_loader))\n",
    "\n",
    "transformed_labels = [dataset.idx_to_class[label.item()] for label in labels]\n",
    "show_images_with_labels(images, transformed_labels, nmax=BATCH_SIZE) "
   ]
  }
 ],
 "metadata": {
  "kernelspec": {
   "display_name": "School",
   "language": "python",
   "name": "python3"
  },
  "language_info": {
   "codemirror_mode": {
    "name": "ipython",
    "version": 3
   },
   "file_extension": ".py",
   "mimetype": "text/x-python",
   "name": "python",
   "nbconvert_exporter": "python",
   "pygments_lexer": "ipython3",
   "version": "3.11.1"
  }
 },
 "nbformat": 4,
 "nbformat_minor": 2
}
