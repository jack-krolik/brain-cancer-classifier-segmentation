{
 "cells": [
  {
   "cell_type": "code",
   "execution_count": 1,
   "metadata": {},
   "outputs": [
    {
     "name": "stdout",
     "output_type": "stream",
     "text": [
      "Warning: Your Kaggle API key is readable by other users on this system! To fix this, you can run 'chmod 600 /Users/dimavremenko/.kaggle/kaggle.json'\n",
      "Warning: Your Kaggle API key is readable by other users on this system! To fix this, you can run 'chmod 600 /Users/dimavremenko/.kaggle/kaggle.json'\n"
     ]
    }
   ],
   "source": [
    "from kaggle.api.kaggle_api_extended import KaggleApi\n",
    "import os\n",
    "from zipfile import ZipFile\n",
    "\n",
    "api = KaggleApi()\n",
    "api.authenticate()"
   ]
  },
  {
   "cell_type": "code",
   "execution_count": 2,
   "metadata": {},
   "outputs": [],
   "source": [
    "# Dataset keys for Kaggle API\n",
    "DATASET_IDS = [\n",
    "    \"pkdarabi/brain-tumor-image-dataset-semantic-segmentation\",\n",
    "    \"masoudnickparvar/brain-tumor-mri-dataset\"\n",
    "]\n",
    "\n",
    "DATASET_NAMES = [\n",
    "    'tumor-segmentation',\n",
    "    'tumor-classification'\n",
    "]\n",
    "\n",
    "# Destination folder\n",
    "DATASET_FOLDER_PATH = \"../datasets\"\n"
   ]
  },
  {
   "cell_type": "code",
   "execution_count": 3,
   "metadata": {},
   "outputs": [
    {
     "name": "stdout",
     "output_type": "stream",
     "text": [
      "Downloading pkdarabi/brain-tumor-image-dataset-semantic-segmentation...\n",
      "Downloading brain-tumor-image-dataset-semantic-segmentation.zip to ../datasets/tumor-segmentation\n"
     ]
    },
    {
     "name": "stderr",
     "output_type": "stream",
     "text": [
      "100%|██████████| 83.7M/83.7M [00:03<00:00, 28.2MB/s]\n"
     ]
    },
    {
     "name": "stdout",
     "output_type": "stream",
     "text": [
      "\n",
      "Renamed ../datasets/tumor-segmentation/valid to ../datasets/tumor-segmentation/validation\n",
      "Downloading masoudnickparvar/brain-tumor-mri-dataset...\n",
      "Downloading brain-tumor-mri-dataset.zip to ../datasets/tumor-classification\n"
     ]
    },
    {
     "name": "stderr",
     "output_type": "stream",
     "text": [
      "100%|██████████| 149M/149M [00:03<00:00, 40.9MB/s] \n"
     ]
    },
    {
     "name": "stdout",
     "output_type": "stream",
     "text": [
      "\n",
      "Renamed ../datasets/tumor-classification/Training to ../datasets/tumor-classification/train\n",
      "Renamed ../datasets/tumor-classification/Testing to ../datasets/tumor-classification/test\n"
     ]
    }
   ],
   "source": [
    "def rename_folders(root_path):\n",
    "    \"\"\"\n",
    "    Renames folders starting with any capitalized version of \"train\", \"test\", \"validation\"\n",
    "    to \"train\", \"test\", and \"validation\" respectively.\n",
    "    \"\"\"\n",
    "    for folder_name in os.listdir(root_path):\n",
    "        folder_path = os.path.join(root_path, folder_name)\n",
    "        if os.path.isdir(folder_path):\n",
    "            lower_folder_name = folder_name.lower()\n",
    "            if lower_folder_name.startswith(\"train\"):\n",
    "                new_folder_path = os.path.join(root_path, \"train\")\n",
    "            elif lower_folder_name.startswith(\"test\"):\n",
    "                new_folder_path = os.path.join(root_path, \"test\")\n",
    "            elif lower_folder_name.startswith(\"val\"):\n",
    "                new_folder_path = os.path.join(root_path, \"validation\")\n",
    "            else:\n",
    "                continue  # Skip renaming if it doesn't match the criteria\n",
    "            \n",
    "            # Rename the folder if the new path is different from the original\n",
    "            if new_folder_path != folder_path:\n",
    "                os.rename(folder_path, new_folder_path)\n",
    "                print(f\"Renamed {folder_path} to {new_folder_path}\")\n",
    "\n",
    "\n",
    "for i, dataset in enumerate(DATASET_IDS):\n",
    "    print(f\"Downloading {dataset}...\")\n",
    "    dataset_path = f\"{DATASET_FOLDER_PATH}/{DATASET_NAMES[i]}\"\n",
    "\n",
    "    if os.path.exists(dataset_path):\n",
    "        print(f\"{dataset} already exists. Skipping...\")\n",
    "        continue\n",
    "\n",
    "    api.dataset_download_files(dataset, path=dataset_path, quiet=False)\n",
    "\n",
    "    # Unzip the downloaded files\n",
    "    zip_file_path = f\"{dataset_path}/{dataset.split('/')[-1]}.zip\"\n",
    "    with ZipFile(zip_file_path, \"r\") as zip_ref:\n",
    "        zip_ref.extractall(dataset_path)\n",
    "\n",
    "    # Remove the zip file\n",
    "    os.remove(zip_file_path)\n",
    "    \n",
    "    # Rename folders\n",
    "    rename_folders(dataset_path)"
   ]
  }
 ],
 "metadata": {
  "kernelspec": {
   "display_name": "school",
   "language": "python",
   "name": "python3"
  },
  "language_info": {
   "codemirror_mode": {
    "name": "ipython",
    "version": 3
   },
   "file_extension": ".py",
   "mimetype": "text/x-python",
   "name": "python",
   "nbconvert_exporter": "python",
   "pygments_lexer": "ipython3",
   "version": "3.11.8"
  }
 },
 "nbformat": 4,
 "nbformat_minor": 2
}
